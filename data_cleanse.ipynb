{
 "cells": [
  {
   "cell_type": "code",
   "execution_count": 1,
   "metadata": {},
   "outputs": [
    {
     "name": "stdout",
     "output_type": "stream",
     "text": [
      "Raw data has 13904 rows\n",
      "Cleansed data has 7392 rows\n"
     ]
    }
   ],
   "source": [
    "import pandas as pd, numpy as np\n",
    "\n",
    "\n",
    "\n",
    "df=pd.read_excel('Material Requisition.xlsx')\n",
    "print('Raw data has {} rows'.format(len(df)))\n",
    "\n",
    "df.dropna(subset=['MREQ_Number'],inplace=True)\n",
    "\n",
    "df['Unit_Price']=pd.to_numeric(df['Unit_Price'], errors = 'coerce')\n",
    "df['Total_Cost']=pd.to_numeric(df['Total_Cost'], errors = 'coerce')\n",
    "df.dropna(subset=['Unit_Price'],inplace=True)\n",
    "df.dropna(subset=['Total_Cost'],inplace=True)\n",
    "\n",
    "df=df[df['Total_Cost']>0.00]\n",
    "\n",
    "df['Date_and_Time_of_Request'][df['Date_and_Time_of_Request'].isna()]=\\\n",
    "df['Date_Required'][df['Date_and_Time_of_Request'].isna()]\n",
    "\n",
    "df.dropna(subset=['Date_and_Time_of_Request'],inplace=True)\n",
    "\n",
    "\n",
    "print('Cleansed data has {} rows'.format(len(df)))"
   ]
  },
  {
   "cell_type": "code",
   "execution_count": 2,
   "metadata": {},
   "outputs": [],
   "source": [
    "import datetime\n",
    "\n",
    "def is_date(x):\n",
    "    if type(x)==datetime.datetime:\n",
    "        \n",
    "        outcome=True\n",
    "    else: \n",
    "        outcome=False\n",
    "        \n",
    "    return outcome\n",
    "\n",
    "def get_quarter(date):\n",
    "    quarter=(date.month-1)//3+1\n",
    "    year = date.year\n",
    "    \n",
    "    return \"Q\"+str(quarter)+\" \"+str(year)\n",
    "\n",
    "df = df[df['Date_and_Time_of_Request'].map(is_date) == True]\n",
    "df['Quarter']= df['Date_and_Time_of_Request'].map(get_quarter)"
   ]
  },
  {
   "cell_type": "code",
   "execution_count": 4,
   "metadata": {},
   "outputs": [],
   "source": [
    "df.to_excel('Tabularised_input_data.xlsx',index=False)"
   ]
  },
  {
   "cell_type": "code",
   "execution_count": null,
   "metadata": {},
   "outputs": [],
   "source": [
    "df['Category'].value_counts()"
   ]
  }
 ],
 "metadata": {
  "kernelspec": {
   "display_name": "Python 3",
   "language": "python",
   "name": "python3"
  },
  "language_info": {
   "codemirror_mode": {
    "name": "ipython",
    "version": 3
   },
   "file_extension": ".py",
   "mimetype": "text/x-python",
   "name": "python",
   "nbconvert_exporter": "python",
   "pygments_lexer": "ipython3",
   "version": "3.7.6"
  }
 },
 "nbformat": 4,
 "nbformat_minor": 4
}
