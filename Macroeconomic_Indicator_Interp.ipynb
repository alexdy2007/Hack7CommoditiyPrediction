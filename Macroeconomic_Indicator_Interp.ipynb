{
 "cells": [
  {
   "cell_type": "code",
   "execution_count": 1,
   "metadata": {},
   "outputs": [],
   "source": [
    "import pandas as pd,os\n",
    "\n",
    "\n",
    "df_date=pd.read_excel('Macroeconomic Summary Table.xlsx')\n",
    "df_date['Date']=pd.to_datetime(df_date['Date'])\n",
    "df_date['Date']=df_date['Date'].dt.strftime('%Y-%m')\n",
    "df_date.sort_values('Date',inplace=True)\n",
    "\n",
    "#df_date=df_date.set_index('Date')\n",
    "#df_date=df_date.sort_index()\n",
    "\n",
    "date_list=pd.period_range(df_date['Date'][0],df_date['Date'][len(df_date)-1],freq='M')\n",
    "df_date['Date']=df_date['Date'].astype(str)\n",
    "\n",
    "\n",
    "df_add=pd.DataFrame()\n",
    "df_add['Date']=date_list\n",
    "df_add['Date']=df_add['Date'].astype(str)\n",
    "ba=pd.merge(df_add['Date'], df_date, right_on='Date', left_on='Date',how='outer')\n",
    "ba['Date']=pd.to_datetime(ba['Date'])\n",
    "ba['Date']=ba['Date'].dt.strftime('%d-%m-%Y')\n",
    "ba=ba.set_index('Date')\n",
    "\n",
    "\n",
    "index_columns=[ 'Indexed GDP Value', 'Indexed TPI Value', 'Indexed BCI Value',\n",
    "       'Construction Output Price Index']\n",
    "\n",
    "for idx in index_columns:\n",
    "    \n",
    "    ba[idx]=ba[idx].interpolate(method='linear')\n",
    "    \n",
    "ba.to_excel('Interpolated Indices Table.xlsx')"
   ]
  },
  {
   "cell_type": "code",
   "execution_count": null,
   "metadata": {},
   "outputs": [],
   "source": []
  }
 ],
 "metadata": {
  "kernelspec": {
   "display_name": "Python 3",
   "language": "python",
   "name": "python3"
  },
  "language_info": {
   "codemirror_mode": {
    "name": "ipython",
    "version": 3
   },
   "file_extension": ".py",
   "mimetype": "text/x-python",
   "name": "python",
   "nbconvert_exporter": "python",
   "pygments_lexer": "ipython3",
   "version": "3.7.6"
  }
 },
 "nbformat": 4,
 "nbformat_minor": 4
}
